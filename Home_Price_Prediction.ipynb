{
  "nbformat": 4,
  "nbformat_minor": 0,
  "metadata": {
    "colab": {
      "provenance": []
    },
    "kernelspec": {
      "name": "python3",
      "display_name": "Python 3"
    },
    "language_info": {
      "name": "python"
    }
  },
  "cells": [
    {
      "cell_type": "code",
      "source": [
        "import pandas as pd\n",
        "pd.set_option('display.max_rows', 500)"
      ],
      "metadata": {
        "id": "5ySGytGwl4rd"
      },
      "execution_count": 124,
      "outputs": []
    },
    {
      "cell_type": "code",
      "source": [
        "home_data = pd.read_csv(\"train.csv\")"
      ],
      "metadata": {
        "id": "PlzuVCWPdtJD"
      },
      "execution_count": 125,
      "outputs": []
    },
    {
      "cell_type": "code",
      "source": [
        "home_data.info()"
      ],
      "metadata": {
        "id": "Ynxj6QyrduiG",
        "colab": {
          "base_uri": "https://localhost:8080/"
        },
        "outputId": "29b2384b-5da2-429b-9a86-76a3996222a8"
      },
      "execution_count": 144,
      "outputs": [
        {
          "output_type": "stream",
          "name": "stdout",
          "text": [
            "<class 'pandas.core.frame.DataFrame'>\n",
            "Int64Index: 1451 entries, 0 to 1459\n",
            "Data columns (total 61 columns):\n",
            " #   Column         Non-Null Count  Dtype  \n",
            "---  ------         --------------  -----  \n",
            " 0   MSSubClass     1451 non-null   int64  \n",
            " 1   MSZoning       1451 non-null   object \n",
            " 2   LotArea        1451 non-null   int64  \n",
            " 3   Street         1451 non-null   object \n",
            " 4   LotShape       1451 non-null   object \n",
            " 5   LandContour    1451 non-null   object \n",
            " 6   Utilities      1451 non-null   object \n",
            " 7   LotConfig      1451 non-null   object \n",
            " 8   LandSlope      1451 non-null   object \n",
            " 9   BldgType       1451 non-null   object \n",
            " 10  HouseStyle     1451 non-null   object \n",
            " 11  OverallQual    1451 non-null   int64  \n",
            " 12  OverallCond    1451 non-null   int64  \n",
            " 13  YearBuilt      1451 non-null   int64  \n",
            " 14  YearRemodAdd   1451 non-null   int64  \n",
            " 15  RoofStyle      1451 non-null   object \n",
            " 16  RoofMatl       1451 non-null   object \n",
            " 17  Exterior1st    1451 non-null   object \n",
            " 18  Exterior2nd    1451 non-null   object \n",
            " 19  MasVnrType     1451 non-null   object \n",
            " 20  MasVnrArea     1451 non-null   float64\n",
            " 21  ExterQual      1451 non-null   object \n",
            " 22  ExterCond      1451 non-null   object \n",
            " 23  Foundation     1451 non-null   object \n",
            " 24  BsmtFinSF1     1451 non-null   int64  \n",
            " 25  BsmtFinSF2     1451 non-null   int64  \n",
            " 26  BsmtUnfSF      1451 non-null   int64  \n",
            " 27  TotalBsmtSF    1451 non-null   int64  \n",
            " 28  Heating        1451 non-null   object \n",
            " 29  HeatingQC      1451 non-null   object \n",
            " 30  CentralAir     1451 non-null   object \n",
            " 31  Electrical     1451 non-null   object \n",
            " 32  1stFlrSF       1451 non-null   int64  \n",
            " 33  2ndFlrSF       1451 non-null   int64  \n",
            " 34  LowQualFinSF   1451 non-null   int64  \n",
            " 35  GrLivArea      1451 non-null   int64  \n",
            " 36  BsmtFullBath   1451 non-null   int64  \n",
            " 37  BsmtHalfBath   1451 non-null   int64  \n",
            " 38  FullBath       1451 non-null   int64  \n",
            " 39  HalfBath       1451 non-null   int64  \n",
            " 40  BedroomAbvGr   1451 non-null   int64  \n",
            " 41  KitchenAbvGr   1451 non-null   int64  \n",
            " 42  KitchenQual    1451 non-null   object \n",
            " 43  TotRmsAbvGrd   1451 non-null   int64  \n",
            " 44  Functional     1451 non-null   object \n",
            " 45  Fireplaces     1451 non-null   int64  \n",
            " 46  GarageCars     1451 non-null   int64  \n",
            " 47  GarageArea     1451 non-null   int64  \n",
            " 48  PavedDrive     1451 non-null   object \n",
            " 49  WoodDeckSF     1451 non-null   int64  \n",
            " 50  OpenPorchSF    1451 non-null   int64  \n",
            " 51  EnclosedPorch  1451 non-null   int64  \n",
            " 52  3SsnPorch      1451 non-null   int64  \n",
            " 53  ScreenPorch    1451 non-null   int64  \n",
            " 54  PoolArea       1451 non-null   int64  \n",
            " 55  MiscVal        1451 non-null   int64  \n",
            " 56  MoSold         1451 non-null   int64  \n",
            " 57  YrSold         1451 non-null   int64  \n",
            " 58  SaleType       1451 non-null   object \n",
            " 59  SaleCondition  1451 non-null   object \n",
            " 60  SalePrice      1451 non-null   int64  \n",
            "dtypes: float64(1), int64(34), object(26)\n",
            "memory usage: 702.8+ KB\n"
          ]
        }
      ]
    },
    {
      "cell_type": "code",
      "source": [
        "home_data.MasVnrType"
      ],
      "metadata": {
        "colab": {
          "base_uri": "https://localhost:8080/"
        },
        "id": "L_5cJIlfmkch",
        "outputId": "875bb133-beea-4a2d-d9f1-34616cfe5653"
      },
      "execution_count": 127,
      "outputs": [
        {
          "output_type": "execute_result",
          "data": {
            "text/plain": [
              "0       BrkFace\n",
              "1          None\n",
              "2       BrkFace\n",
              "3          None\n",
              "4       BrkFace\n",
              "         ...   \n",
              "1455       None\n",
              "1456      Stone\n",
              "1457       None\n",
              "1458       None\n",
              "1459       None\n",
              "Name: MasVnrType, Length: 1460, dtype: object"
            ]
          },
          "metadata": {},
          "execution_count": 127
        }
      ]
    },
    {
      "cell_type": "code",
      "source": [
        "home_data.dropna(subset =['Electrical','MasVnrType','MasVnrArea'],inplace=True)\n"
      ],
      "metadata": {
        "id": "v3G6JXygnKxy"
      },
      "execution_count": 128,
      "outputs": []
    },
    {
      "cell_type": "code",
      "source": [
        "home_data.isna().sum()\n"
      ],
      "metadata": {
        "colab": {
          "base_uri": "https://localhost:8080/"
        },
        "id": "rAWvQOrTsTUU",
        "outputId": "fb1d9c66-a3c3-4ab1-98e0-0df7ae0e3f32"
      },
      "execution_count": 129,
      "outputs": [
        {
          "output_type": "execute_result",
          "data": {
            "text/plain": [
              "Id                  0\n",
              "MSSubClass          0\n",
              "MSZoning            0\n",
              "LotFrontage       257\n",
              "LotArea             0\n",
              "Street              0\n",
              "Alley            1361\n",
              "LotShape            0\n",
              "LandContour         0\n",
              "Utilities           0\n",
              "LotConfig           0\n",
              "LandSlope           0\n",
              "Neighborhood        0\n",
              "Condition1          0\n",
              "Condition2          0\n",
              "BldgType            0\n",
              "HouseStyle          0\n",
              "OverallQual         0\n",
              "OverallCond         0\n",
              "YearBuilt           0\n",
              "YearRemodAdd        0\n",
              "RoofStyle           0\n",
              "RoofMatl            0\n",
              "Exterior1st         0\n",
              "Exterior2nd         0\n",
              "MasVnrType          0\n",
              "MasVnrArea          0\n",
              "ExterQual           0\n",
              "ExterCond           0\n",
              "Foundation          0\n",
              "BsmtQual           37\n",
              "BsmtCond           37\n",
              "BsmtExposure       38\n",
              "BsmtFinType1       37\n",
              "BsmtFinSF1          0\n",
              "BsmtFinType2       38\n",
              "BsmtFinSF2          0\n",
              "BsmtUnfSF           0\n",
              "TotalBsmtSF         0\n",
              "Heating             0\n",
              "HeatingQC           0\n",
              "CentralAir          0\n",
              "Electrical          0\n",
              "1stFlrSF            0\n",
              "2ndFlrSF            0\n",
              "LowQualFinSF        0\n",
              "GrLivArea           0\n",
              "BsmtFullBath        0\n",
              "BsmtHalfBath        0\n",
              "FullBath            0\n",
              "HalfBath            0\n",
              "BedroomAbvGr        0\n",
              "KitchenAbvGr        0\n",
              "KitchenQual         0\n",
              "TotRmsAbvGrd        0\n",
              "Functional          0\n",
              "Fireplaces          0\n",
              "FireplaceQu       685\n",
              "GarageType         81\n",
              "GarageYrBlt        81\n",
              "GarageFinish       81\n",
              "GarageCars          0\n",
              "GarageArea          0\n",
              "GarageQual         81\n",
              "GarageCond         81\n",
              "PavedDrive          0\n",
              "WoodDeckSF          0\n",
              "OpenPorchSF         0\n",
              "EnclosedPorch       0\n",
              "3SsnPorch           0\n",
              "ScreenPorch         0\n",
              "PoolArea            0\n",
              "PoolQC           1444\n",
              "Fence            1170\n",
              "MiscFeature      1397\n",
              "MiscVal             0\n",
              "MoSold              0\n",
              "YrSold              0\n",
              "SaleType            0\n",
              "SaleCondition       0\n",
              "SalePrice           0\n",
              "dtype: int64"
            ]
          },
          "metadata": {},
          "execution_count": 129
        }
      ]
    },
    {
      "cell_type": "code",
      "source": [
        "def preprocessing(data):\n",
        " \n",
        "  #Dropping all columns with Nan Values\n",
        "  data.drop(['Id','LotFrontage','Alley','FireplaceQu','PoolQC','Fence','MiscFeature','BsmtQual','BsmtCond','BsmtExposure','BsmtFinType1','BsmtFinType2','GarageType','GarageYrBlt','GarageFinish','GarageQual','GarageCond'],axis=1,inplace=True,errors='ignore')\n",
        "  \n",
        " #Dropped \"Neighborhood\",\"Condition1\",\"Condition2\",\"\" coz of lots of values for onehotencoding\n",
        "  data.drop(['Neighborhood','Condition1','Condition2'],axis=1,inplace=True,errors='ignore')"
      ],
      "metadata": {
        "id": "ta0olKrpdu0a"
      },
      "execution_count": 130,
      "outputs": []
    },
    {
      "cell_type": "code",
      "source": [
        "preprocessing(home_data)"
      ],
      "metadata": {
        "id": "eYEOibSCCmAu"
      },
      "execution_count": 131,
      "outputs": []
    },
    {
      "cell_type": "code",
      "source": [
        "home_data.info()"
      ],
      "metadata": {
        "colab": {
          "base_uri": "https://localhost:8080/"
        },
        "id": "7tRIzPfYCqP8",
        "outputId": "ec439e00-af49-430c-bbe0-2f4867f3bafc"
      },
      "execution_count": 132,
      "outputs": [
        {
          "output_type": "stream",
          "name": "stdout",
          "text": [
            "<class 'pandas.core.frame.DataFrame'>\n",
            "Int64Index: 1451 entries, 0 to 1459\n",
            "Data columns (total 61 columns):\n",
            " #   Column         Non-Null Count  Dtype  \n",
            "---  ------         --------------  -----  \n",
            " 0   MSSubClass     1451 non-null   int64  \n",
            " 1   MSZoning       1451 non-null   object \n",
            " 2   LotArea        1451 non-null   int64  \n",
            " 3   Street         1451 non-null   object \n",
            " 4   LotShape       1451 non-null   object \n",
            " 5   LandContour    1451 non-null   object \n",
            " 6   Utilities      1451 non-null   object \n",
            " 7   LotConfig      1451 non-null   object \n",
            " 8   LandSlope      1451 non-null   object \n",
            " 9   BldgType       1451 non-null   object \n",
            " 10  HouseStyle     1451 non-null   object \n",
            " 11  OverallQual    1451 non-null   int64  \n",
            " 12  OverallCond    1451 non-null   int64  \n",
            " 13  YearBuilt      1451 non-null   int64  \n",
            " 14  YearRemodAdd   1451 non-null   int64  \n",
            " 15  RoofStyle      1451 non-null   object \n",
            " 16  RoofMatl       1451 non-null   object \n",
            " 17  Exterior1st    1451 non-null   object \n",
            " 18  Exterior2nd    1451 non-null   object \n",
            " 19  MasVnrType     1451 non-null   object \n",
            " 20  MasVnrArea     1451 non-null   float64\n",
            " 21  ExterQual      1451 non-null   object \n",
            " 22  ExterCond      1451 non-null   object \n",
            " 23  Foundation     1451 non-null   object \n",
            " 24  BsmtFinSF1     1451 non-null   int64  \n",
            " 25  BsmtFinSF2     1451 non-null   int64  \n",
            " 26  BsmtUnfSF      1451 non-null   int64  \n",
            " 27  TotalBsmtSF    1451 non-null   int64  \n",
            " 28  Heating        1451 non-null   object \n",
            " 29  HeatingQC      1451 non-null   object \n",
            " 30  CentralAir     1451 non-null   object \n",
            " 31  Electrical     1451 non-null   object \n",
            " 32  1stFlrSF       1451 non-null   int64  \n",
            " 33  2ndFlrSF       1451 non-null   int64  \n",
            " 34  LowQualFinSF   1451 non-null   int64  \n",
            " 35  GrLivArea      1451 non-null   int64  \n",
            " 36  BsmtFullBath   1451 non-null   int64  \n",
            " 37  BsmtHalfBath   1451 non-null   int64  \n",
            " 38  FullBath       1451 non-null   int64  \n",
            " 39  HalfBath       1451 non-null   int64  \n",
            " 40  BedroomAbvGr   1451 non-null   int64  \n",
            " 41  KitchenAbvGr   1451 non-null   int64  \n",
            " 42  KitchenQual    1451 non-null   object \n",
            " 43  TotRmsAbvGrd   1451 non-null   int64  \n",
            " 44  Functional     1451 non-null   object \n",
            " 45  Fireplaces     1451 non-null   int64  \n",
            " 46  GarageCars     1451 non-null   int64  \n",
            " 47  GarageArea     1451 non-null   int64  \n",
            " 48  PavedDrive     1451 non-null   object \n",
            " 49  WoodDeckSF     1451 non-null   int64  \n",
            " 50  OpenPorchSF    1451 non-null   int64  \n",
            " 51  EnclosedPorch  1451 non-null   int64  \n",
            " 52  3SsnPorch      1451 non-null   int64  \n",
            " 53  ScreenPorch    1451 non-null   int64  \n",
            " 54  PoolArea       1451 non-null   int64  \n",
            " 55  MiscVal        1451 non-null   int64  \n",
            " 56  MoSold         1451 non-null   int64  \n",
            " 57  YrSold         1451 non-null   int64  \n",
            " 58  SaleType       1451 non-null   object \n",
            " 59  SaleCondition  1451 non-null   object \n",
            " 60  SalePrice      1451 non-null   int64  \n",
            "dtypes: float64(1), int64(34), object(26)\n",
            "memory usage: 702.8+ KB\n"
          ]
        }
      ]
    },
    {
      "cell_type": "code",
      "source": [
        "abt = home_data.copy()\n",
        "\n",
        "# Create feature columns\n",
        "# Drop identifier column\n",
        "X = abt.drop(['SalePrice'],axis=1)\n",
        "# One hot encode\n",
        "X = pd.get_dummies(X)\n",
        "# Create target columns\n",
        "y = home_data.SalePrice"
      ],
      "metadata": {
        "id": "BlbY7_taGROK"
      },
      "execution_count": 133,
      "outputs": []
    },
    {
      "cell_type": "code",
      "source": [
        "# y = home_data.SalePrice\n",
        "# X = home_data.drop(['SalePrice'],axis=1)\n",
        "X.info()\n"
      ],
      "metadata": {
        "colab": {
          "base_uri": "https://localhost:8080/"
        },
        "id": "QVeGlf67DTvX",
        "outputId": "499ab673-186e-436c-b702-4e14210b21a2"
      },
      "execution_count": 134,
      "outputs": [
        {
          "output_type": "stream",
          "name": "stdout",
          "text": [
            "<class 'pandas.core.frame.DataFrame'>\n",
            "Int64Index: 1451 entries, 0 to 1459\n",
            "Columns: 183 entries, MSSubClass to SaleCondition_Partial\n",
            "dtypes: float64(1), int64(33), uint8(149)\n",
            "memory usage: 607.9 KB\n"
          ]
        }
      ]
    },
    {
      "cell_type": "code",
      "source": [
        "from sklearn.model_selection import train_test_split\n",
        "train_X,test_X,train_y,test_y = train_test_split(X,y,random_state=0)\n"
      ],
      "metadata": {
        "id": "JnidrWwUC0aM"
      },
      "execution_count": 135,
      "outputs": []
    },
    {
      "cell_type": "code",
      "source": [
        "from sklearn.tree import DecisionTreeRegressor\n",
        "home_price_model = DecisionTreeRegressor()\n",
        "\n",
        "home_price_model.fit(train_X,train_y)"
      ],
      "metadata": {
        "colab": {
          "base_uri": "https://localhost:8080/"
        },
        "id": "usBcErEeEC5b",
        "outputId": "2b497a74-d9aa-47b1-e435-bfbdc4cc3dd8"
      },
      "execution_count": 136,
      "outputs": [
        {
          "output_type": "execute_result",
          "data": {
            "text/plain": [
              "DecisionTreeRegressor()"
            ]
          },
          "metadata": {},
          "execution_count": 136
        }
      ]
    },
    {
      "cell_type": "code",
      "source": [
        "from sklearn.metrics import mean_absolute_error\n",
        "val_predictions = home_price_model.predict(test_X)\n",
        "print(mean_absolute_error(test_y,val_predictions))"
      ],
      "metadata": {
        "colab": {
          "base_uri": "https://localhost:8080/"
        },
        "id": "bkrJbZTTEcrl",
        "outputId": "11eb718e-c5e3-4df6-cf65-e1e200a21d01"
      },
      "execution_count": 137,
      "outputs": [
        {
          "output_type": "stream",
          "name": "stdout",
          "text": [
            "25886.225895316806\n"
          ]
        }
      ]
    },
    {
      "cell_type": "code",
      "source": [
        "#Model is ready to use\n",
        "#Now loading test data and applying preprocessing"
      ],
      "metadata": {
        "id": "ME4M-MlTLumj"
      },
      "execution_count": 138,
      "outputs": []
    },
    {
      "cell_type": "code",
      "source": [
        "test_data_1 = pd.read_csv(\"test.csv\")"
      ],
      "metadata": {
        "id": "fqRnkE4ALhtC"
      },
      "execution_count": 145,
      "outputs": []
    },
    {
      "cell_type": "code",
      "source": [
        "home_data_columns = list(home_data.columns)\n",
        "home_data_columns.remove(\"SalePrice\") "
      ],
      "metadata": {
        "id": "UeJkxNiwRC2V"
      },
      "execution_count": 152,
      "outputs": []
    },
    {
      "cell_type": "code",
      "source": [
        "test_data = test_data_1[home_data_columns]"
      ],
      "metadata": {
        "id": "hgAgVfNtLVVM"
      },
      "execution_count": 153,
      "outputs": []
    },
    {
      "cell_type": "code",
      "source": [
        "test_abt = test_data.copy()\n",
        "test_abt.dropna(inplace=True)\n",
        "\n",
        "preprocessing(test_abt)\n",
        "\n",
        "test_abt = pd.get_dummies(test_abt)"
      ],
      "metadata": {
        "id": "_qNZDqoCM4R1"
      },
      "execution_count": 157,
      "outputs": []
    },
    {
      "cell_type": "code",
      "source": [
        "test_abt = test_abt.reindex(labels=X.columns,axis=1)"
      ],
      "metadata": {
        "id": "3bQ8CtXNSWl4"
      },
      "execution_count": 160,
      "outputs": []
    },
    {
      "cell_type": "code",
      "source": [
        "test_abt.fillna(0,inplace=True)"
      ],
      "metadata": {
        "id": "JrO-JZCROvsf"
      },
      "execution_count": 168,
      "outputs": []
    },
    {
      "cell_type": "code",
      "source": [
        "test_abt.info()"
      ],
      "metadata": {
        "colab": {
          "base_uri": "https://localhost:8080/"
        },
        "id": "HtTpE4biS3kH",
        "outputId": "eae8386a-c561-4b3e-deb5-066249788951"
      },
      "execution_count": 169,
      "outputs": [
        {
          "output_type": "stream",
          "name": "stdout",
          "text": [
            "<class 'pandas.core.frame.DataFrame'>\n",
            "Int64Index: 1431 entries, 0 to 1458\n",
            "Columns: 183 entries, MSSubClass to SaleCondition_Partial\n",
            "dtypes: float64(22), int64(25), uint8(136)\n",
            "memory usage: 726.7 KB\n"
          ]
        }
      ]
    },
    {
      "cell_type": "code",
      "source": [
        "yhat_test = home_price_model.predict(test_abt)"
      ],
      "metadata": {
        "id": "pKEZKO_MOfgY"
      },
      "execution_count": 170,
      "outputs": []
    },
    {
      "cell_type": "code",
      "source": [
        "yhat_test"
      ],
      "metadata": {
        "colab": {
          "base_uri": "https://localhost:8080/"
        },
        "id": "PJFxFa_BPD_z",
        "outputId": "4c1aa06e-925f-4deb-ae41-1a4b3cc9e6c2"
      },
      "execution_count": 171,
      "outputs": [
        {
          "output_type": "execute_result",
          "data": {
            "text/plain": [
              "array([123000., 177000., 197500., ..., 157000., 110000., 205000.])"
            ]
          },
          "metadata": {},
          "execution_count": 171
        }
      ]
    },
    {
      "cell_type": "code",
      "source": [
        "submission = pd.DataFrame([test_data_1['Id'], yhat_test]).T\n",
        "submission.columns = ['Id', 'SalePrice']"
      ],
      "metadata": {
        "id": "NUUT9IQ2TCBv"
      },
      "execution_count": 173,
      "outputs": []
    },
    {
      "cell_type": "code",
      "source": [
        "# Final Submission\n",
        "\n",
        "submission.to_csv('Home_Price_submission.csv', index=False)"
      ],
      "metadata": {
        "id": "RtMbqSQGTomB"
      },
      "execution_count": 176,
      "outputs": []
    },
    {
      "cell_type": "code",
      "source": [],
      "metadata": {
        "id": "0dAXZXL1Ts_C"
      },
      "execution_count": null,
      "outputs": []
    }
  ]
}